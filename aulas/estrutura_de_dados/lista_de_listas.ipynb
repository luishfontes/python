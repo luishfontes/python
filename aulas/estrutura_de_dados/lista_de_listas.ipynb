{
 "cells": [
  {
   "cell_type": "code",
   "execution_count": null,
   "metadata": {},
   "outputs": [
    {
     "name": "stdout",
     "output_type": "stream",
     "text": [
      "O vendedor Lira, vendeu 100 Ipad e 200 Iphone\n",
      "[[100, 50], [300, 500], [50, 1000], [900, 10]]\n",
      "['2']\n",
      "[[100, 50, '2'], [300, 500], [50, 1000], [900, 10]]\n"
     ]
    }
   ],
   "source": [
    "vendedores = ['Lira', 'João' 'Diego', 'Alon']\n",
    "produtos = ['Ipad', 'Iphone']\n",
    "vendas = [\n",
    "    [100, 200],\n",
    "    [300, 500],\n",
    "    [50, 1000],\n",
    "    [900, 10],\n",
    "]\n",
    "\n",
    "print(f'O vendedor {vendedores[0]}, vendeu {vendas[0][0]} {produtos[0]} e {vendas[0][1]} {produtos[1]}')\n",
    "\n",
    "# Mudando a quantidade de vendas de Iphones de lira\n",
    "\n",
    "vendas[0][1] = 50\n",
    "print(vendas)\n",
    "\n",
    "# adicionando mais um valor em alguma lista (eu escolhi, só pra testar)\n",
    "\n",
    "vendas_add = input('Vendas para adicionar: ')\n",
    "vendas_add_lista = []\n",
    "vendas_add_lista.append(vendas_add)\n",
    "print(vendas_add_lista)\n",
    "\n",
    "vendas[0].append(vendas_add_lista[0])\n",
    "print(vendas)"
   ]
  }
 ],
 "metadata": {
  "kernelspec": {
   "display_name": "env",
   "language": "python",
   "name": "python3"
  },
  "language_info": {
   "codemirror_mode": {
    "name": "ipython",
    "version": 3
   },
   "file_extension": ".py",
   "mimetype": "text/x-python",
   "name": "python",
   "nbconvert_exporter": "python",
   "pygments_lexer": "ipython3",
   "version": "3.12.4"
  }
 },
 "nbformat": 4,
 "nbformat_minor": 2
}
