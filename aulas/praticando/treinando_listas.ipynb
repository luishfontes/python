{
 "cells": [
  {
   "cell_type": "code",
   "execution_count": null,
   "metadata": {},
   "outputs": [],
   "source": [
    "vendas = [100, 1999, 29230, 243, 2342]\n",
    "\n",
    "soma = 0\n",
    "i = 0\n",
    "while i < len(vendas):\n",
    "    soma = soma + vendas[i]\n",
    "    print(f'A soma é {soma}')\n",
    "    i = i + 1\n",
    "\n",
    "print(f'A soma total é de {soma}')\n",
    "\n"
   ]
  },
  {
   "cell_type": "code",
   "execution_count": null,
   "metadata": {},
   "outputs": [],
   "source": [
    "#Somando itens de uma lista\n",
    "lista = [1, 2, 3, 4, 5]\n",
    "soma = sum(lista)\n",
    "print(f'A soma da lista é {soma}.')"
   ]
  },
  {
   "cell_type": "code",
   "execution_count": null,
   "metadata": {},
   "outputs": [],
   "source": [
    "#Somando itens da lista quando temos str\n",
    "#Devemos converter para int, porém abc não pode virar um int\n",
    "#Vou criar uma estrutura de repetição onde quando não vai parar o programa se um valor der erro e vai adicionar a nova lista os que são numeros\n",
    "\n",
    "lista = [\"10\", \"abc\", \"30\", \"xyz\"]\n",
    "numeros = []\n",
    "for item in lista:\n",
    "    try:\n",
    "        numeros.append(int(item))  # Tenta converter para inteiro\n",
    "    except ValueError:\n",
    "        print(f\"Não foi possível converter: {item}\")\n",
    "print(f'Essa é a lista: {numeros}.\\nE essa é a soma da lista: {sum(numeros)}')  # Saída: [10, 30]\n"
   ]
  },
  {
   "cell_type": "code",
   "execution_count": null,
   "metadata": {},
   "outputs": [],
   "source": [
    "try:\n",
    "    print('Adicionador de números para sua lista.\\nCaso deseje encerrar o programa, digite \"fim\".')\n",
    "    numeros = []\n",
    "\n",
    "    while True:\n",
    "        try:\n",
    "            numero = input('Insira um número: ')\n",
    "            if numero.lower() != \"fim\":\n",
    "                numeros.append(int(numero))\n",
    "            else:\n",
    "                print('Sua lista está feita!')\n",
    "                break\n",
    "        except ValueError:\n",
    "            print(f'O valor {numero} não é um número, por favor, tente novamente.')\n",
    "\n",
    "    print(numeros)\n",
    "\n",
    "    pergunta = input('Deseja remover ou alterar algum item da lista?\\n')\n",
    "    if pergunta.lower() == \"sim\":\n",
    "        while True:\n",
    "            opcao = input('Certo, selecione uma opção: \\n1 - remover\\n2 - alterar\\n3 - sair\\n')\n",
    "            \n",
    "            if opcao == \"1\":\n",
    "                print(f'Lista atual de {numeros}.')\n",
    "                try:\n",
    "                    num_remover = int(input('Qual número você deseja remover?\\n'))\n",
    "                    if num_remover in numeros:\n",
    "                            numeros.remove(num_remover)\n",
    "                            print(f'O {num_remover} foi retirado da lista.')\n",
    "                    else:\n",
    "                            print('Este número não está na lista, tente outro número.')\n",
    "                except ValueError:\n",
    "                    print('Por favor, insira um valor válido.')\n",
    "\n",
    "            elif opcao == \"2\":\n",
    "                print(numeros)\n",
    "                try:\n",
    "                    num_alterar = int(input('Qual número você deseja alterar?\\n'))\n",
    "                    if num_alterar in numeros:\n",
    "                        i = numeros.index(num_alterar)\n",
    "                        num_novo = int(input(f'Qual número você deseja adicionar no lugar de {num_alterar}?\\n'))\n",
    "                        numeros[i] = num_novo\n",
    "                        print(f'{num_alterar} foi alterado para {num_novo}.')\n",
    "                        print(f'Nova lista {numeros}.')\n",
    "                    else:\n",
    "                        print('Este número não está na lista, tente um outro número.')\n",
    "                except ValueError:\n",
    "                    print('Este número não está na lista, tente outro número.')\n",
    "\n",
    "            elif opcao == \"3\":\n",
    "                print('O programa será encerrado, obrigado por testar!')\n",
    "                break\n",
    "            else:\n",
    "                print('Opção inválida, tente novamente.')\n",
    "\n",
    "    numeros.sort()\n",
    "    print(f'Sua lista final (ordenada): {numeros}')\n",
    "\n",
    "except KeyboardInterrupt:\n",
    "    print('\\nO usuário decidiu interromper o programa.')"
   ]
  },
  {
   "cell_type": "markdown",
   "metadata": {},
   "source": [
    "Apenas testando"
   ]
  }
 ],
 "metadata": {
  "kernelspec": {
   "display_name": "env",
   "language": "python",
   "name": "python3"
  },
  "language_info": {
   "codemirror_mode": {
    "name": "ipython",
    "version": 3
   },
   "file_extension": ".py",
   "mimetype": "text/x-python",
   "name": "python",
   "nbconvert_exporter": "python",
   "pygments_lexer": "ipython3",
   "version": "3.12.4"
  }
 },
 "nbformat": 4,
 "nbformat_minor": 2
}
