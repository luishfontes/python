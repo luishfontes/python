{
 "cells": [
  {
   "cell_type": "code",
   "execution_count": 6,
   "metadata": {},
   "outputs": [
    {
     "name": "stdout",
     "output_type": "stream",
     "text": [
      "A soma é 100\n",
      "A soma é 2099\n",
      "A soma é 31329\n",
      "A soma é 31572\n",
      "A soma é 33914\n",
      "A soma total é de 33914\n"
     ]
    }
   ],
   "source": [
    "vendas = [100, 1999, 29230, 243, 2342]\n",
    "\n",
    "soma = 0\n",
    "i = 0\n",
    "while i < len(vendas):\n",
    "    soma = soma + vendas[i]\n",
    "    print(f'A soma é {soma}')\n",
    "    i = i + 1\n",
    "\n",
    "print(f'A soma total é de {soma}')\n",
    "\n"
   ]
  },
  {
   "cell_type": "code",
   "execution_count": 7,
   "metadata": {},
   "outputs": [
    {
     "name": "stdout",
     "output_type": "stream",
     "text": [
      "A soma da lista é 15.\n"
     ]
    }
   ],
   "source": [
    "#Somando itens de uma lista\n",
    "lista = [1, 2, 3, 4, 5]\n",
    "soma = sum(lista)\n",
    "print(f'A soma da lista é {soma}.')"
   ]
  },
  {
   "cell_type": "code",
   "execution_count": 8,
   "metadata": {},
   "outputs": [
    {
     "name": "stdout",
     "output_type": "stream",
     "text": [
      "Não foi possível converter: abc\n",
      "Não foi possível converter: xyz\n",
      "Essa é a lista: [10, 30].\n",
      "E essa é a soma da lista: 40\n"
     ]
    }
   ],
   "source": [
    "#Somando itens da lista quando temos str\n",
    "#Devemos converter para int, porém abc não pode virar um int\n",
    "#Vou criar uma estrutura de repetição onde quando não vai parar o programa se um valor der erro e vai adicionar a nova lista os que são numeros\n",
    "\n",
    "lista = [\"10\", \"abc\", \"30\", \"xyz\"]\n",
    "numeros = []\n",
    "for item in lista:\n",
    "    try:\n",
    "        numeros.append(int(item))  # Tenta converter para inteiro\n",
    "    except ValueError:\n",
    "        print(f\"Não foi possível converter: {item}\")\n",
    "print(f'Essa é a lista: {numeros}.\\nE essa é a soma da lista: {sum(numeros)}')  # Saída: [10, 30]\n"
   ]
  },
  {
   "cell_type": "code",
   "execution_count": 2,
   "metadata": {},
   "outputs": [
    {
     "name": "stdout",
     "output_type": "stream",
     "text": [
      "Adicionador de números para sua lista.\n",
      "Caso deseje encerrar o programa, digite \"fim\".\n",
      "Sua lista está feita!\n",
      "[11, 11, 11, 55, 5, 5, 5, 5, 5, 5]\n",
      "Sua lista final (ordenada): [5, 5, 5, 5, 5, 5, 11, 11, 11, 55]\n"
     ]
    }
   ],
   "source": [
    "try:\n",
    "    print('Adicionador de números para sua lista.\\nCaso deseje encerrar o programa, digite \"fim\".')\n",
    "    numeros = []\n",
    "\n",
    "    while True:\n",
    "        try:\n",
    "            numero = input('Insira um número: ')\n",
    "            if numero.lower() != \"fim\":\n",
    "                numeros.append(int(numero))\n",
    "            else:\n",
    "                print('Sua lista está feita!')\n",
    "                break\n",
    "        except ValueError:\n",
    "            print(f'O valor {numero} não é um numero, por favor, tente novamente.')\n",
    "\n",
    "    print(numeros)\n",
    "\n",
    "    pergunta = input('Deseja remover ou alterar algum item da lista?\\n')\n",
    "    if pergunta.lower() == \"sim\":\n",
    "        while True:\n",
    "            opcao = input('Certo, selecione uma opção: \\n1 - remover\\n2 - alterar\\n3 - sair\\n')\n",
    "            \n",
    "            if opcao == \"1\":\n",
    "                print(f'Lista atual de {numeros}.')\n",
    "                try:\n",
    "                    num_remover = int(input('Qual número você deseja remover?\\n'))\n",
    "                    if num_remover in numeros:\n",
    "                            numeros.remove(num_remover)\n",
    "                            print(f'O {num_remover} foi retirado da lista.')\n",
    "                    else:\n",
    "                            print('Este número não está na lista, tente outro número.')\n",
    "                except ValueError:\n",
    "                    print('Por favor, insira um valor válido.')\n",
    "\n",
    "            elif opcao == \"2\":\n",
    "                print(numeros)\n",
    "                try:\n",
    "                    num_alterar = int(input('Qual número você deseja alterar?\\n'))\n",
    "                    if num_alterar in numeros:\n",
    "                        i = numeros.index(num_alterar)\n",
    "                        num_novo = int(input(f'Qual número você deseja adicionar no lugar de {num_alterar}?\\n'))\n",
    "                        numeros[i] = num_novo\n",
    "                        print(f'{num_alterar} foi alterado para {num_novo}.')\n",
    "                        print(f'Nova lista {numeros}.')\n",
    "                    else:\n",
    "                        print('Este número não está na lista, tente um outro número.')\n",
    "                except ValueError:\n",
    "                    print('Este número não está na lista, tente outro número.')\n",
    "\n",
    "            elif opcao == \"3\":\n",
    "                print('O programa será encerrado, obrigado por testar!')\n",
    "                break\n",
    "            else:\n",
    "                print('Opção inválida, tente novamente.')\n",
    "\n",
    "    numeros.sort()\n",
    "    print(f'Sua lista final (ordenada): {numeros}')\n",
    "\n",
    "except KeyboardInterrupt:\n",
    "    print('\\nO usuário decidiu interromper o programa.')"
   ]
  },
  {
   "cell_type": "markdown",
   "metadata": {},
   "source": [
    "Aqui da pra digitar qualquer coisa de boa"
   ]
  },
  {
   "cell_type": "code",
   "execution_count": 1,
   "metadata": {},
   "outputs": [
    {
     "ename": "NameError",
     "evalue": "name 'vendas' is not defined",
     "output_type": "error",
     "traceback": [
      "\u001b[1;31m---------------------------------------------------------------------------\u001b[0m",
      "\u001b[1;31mNameError\u001b[0m                                 Traceback (most recent call last)",
      "Cell \u001b[1;32mIn[1], line 1\u001b[0m\n\u001b[1;32m----> 1\u001b[0m \u001b[38;5;28mprint\u001b[39m(\u001b[43mvendas\u001b[49m)\n",
      "\u001b[1;31mNameError\u001b[0m: name 'vendas' is not defined"
     ]
    }
   ],
   "source": [
    "print(vendas)"
   ]
  }
 ],
 "metadata": {
  "kernelspec": {
   "display_name": "env",
   "language": "python",
   "name": "python3"
  },
  "language_info": {
   "codemirror_mode": {
    "name": "ipython",
    "version": 3
   },
   "file_extension": ".py",
   "mimetype": "text/x-python",
   "name": "python",
   "nbconvert_exporter": "python",
   "pygments_lexer": "ipython3",
   "version": "3.12.4"
  }
 },
 "nbformat": 4,
 "nbformat_minor": 2
}
