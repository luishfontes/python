{
 "cells": [
  {
   "cell_type": "code",
   "execution_count": null,
   "metadata": {},
   "outputs": [],
   "source": [
    "vendas = [1050, 990, 134, 1020, 980, 1200, 1100, 1150, 940, 860,\n",
    "          1030, 1005, 1105, 1130, 950, 1210, 1155, 1080, 1205, 1250,\n",
    "          980, 1025, 1075, 930, 1155, 1180, 980, 1000, 1100, 1250,\n",
    "          1040, 1015, 1120, 1085, 980, 1080, 1220, 990, 1155, 1200,\n",
    "          1010, 1125, 980, 1070, 1190, 1005, 1020, 1225, 1105, 1065,\n",
    "          1070, 1035, 1165, 1190, 1090, 950, 1010, 1125, 1055, 1135,\n",
    "          1105, 1130, 1075, 1095, 1150, 980, 1055, 990, 1025, 1105,\n",
    "          1070, 1460, 1180, 1110, 1085, 1020, 1250, 1080, 1115, 1160,\n",
    "          1025, 980, 1155, 1110, 1060, 1200, 1130, 1225, 1075, 1120,\n",
    "          1155, 1005, 1100, 1045, 1080, 980, 1125, 1070, 1135, 1050,\n",
    "          1205, 1085, 1110, 1150, 1065, 1185, 1030, 1070, 1100, 1150]\n",
    "\n",
    "meta = 1200\n",
    "\n",
    "qtd_bateu_meta = 0\n",
    "maior_venda_bateu_meta = 0\n",
    "\n",
    "for venda in vendas:\n",
    "    if venda >= meta:\n",
    "        qtd_bateu_meta += 1\n",
    "        if venda > maior_venda_bateu_meta:\n",
    "            maior_venda_bateu_meta = venda\n",
    "\n",
    "print(f'Quantidade de vendas que bateram a meta: {qtd_bateu_meta}')\n",
    "print(f'Maior venda que bateu a meta: {maior_venda_bateu_meta}')\n"
   ]
  },
  {
   "cell_type": "code",
   "execution_count": null,
   "metadata": {},
   "outputs": [],
   "source": [
    "for i in range(0, 11):\n",
    "    print(i)"
   ]
  },
  {
   "cell_type": "code",
   "execution_count": null,
   "metadata": {},
   "outputs": [],
   "source": [
    "qtd_pessoas = int(input('Quantas pessoas ficarão no quarto?\\n'))\n",
    "quarto = []\n",
    "\n",
    "\n",
    "for i in range(qtd_pessoas):\n",
    "    nome = input('Nome: ')\n",
    "    cpf = input('CPF: ')\n",
    "    hospede = [nome, cpf]\n",
    "    quarto.append(hospede)\n",
    "    \n",
    "print(quarto)"
   ]
  },
  {
   "cell_type": "code",
   "execution_count": null,
   "metadata": {},
   "outputs": [],
   "source": [
    "meta = 10000\n",
    "vendas = [\n",
    "    ['João', 15000],\n",
    "    ['Julia', 27000],\n",
    "    ['Marcus', 9900],\n",
    "    ['Maria', 3750],\n",
    "    ['Ana', 10300],\n",
    "    ['Alon', 7870],\n",
    "]\n",
    "\n",
    "for item in vendas:\n",
    "    if item[1] > meta:\n",
    "        print(f'O(a) vendedor(a) {item[0]} conseguiu bater a meta e vendeu {item[1]} unidades.')\n",
    "    else:\n",
    "        print(f'O(a) vendedor(a) {item[0]} não bateu a meta e vendeu {item[1]} unidades.')\n"
   ]
  },
  {
   "cell_type": "code",
   "execution_count": null,
   "metadata": {},
   "outputs": [],
   "source": [
    "import random\n",
    "\n",
    "vendas = [1050, 990, 134, 1020, 980, 1200, 1100, 1150, 940, 860,\n",
    "          1030, 1005, 1105, 1130, 950, 1210, 1155, 1080, 1205, 1250,\n",
    "          980, 1025, 1075, 930, 1155, 1180, 980, 1000, 1100, 1250,\n",
    "          1040, 1015, 1120, 1085, 980, 1080, 1220, 990, 1155, 1200,\n",
    "          1010, 1125, 980, 1070, 1190, 1005, 1020, 1225, 1105, 1065,\n",
    "          1070, 1035, 1165, 1190, 1090, 950, 1010, 1125, 1055, 1135,\n",
    "          1105, 1130, 1075, 1095, 1150, 980, 1055, 990, 1025, 1105,\n",
    "          1070, 1460, 1180, 1110, 1085, 1020, 1250, 1080, 1115, 1160,\n",
    "          1025, 980, 1155, 1110, 1060, 1200, 1130, 1225, 1075, 1120,\n",
    "          1155, 1005, 1100, 1045, 1080, 980, 1125, 1070, 1135, 1050,\n",
    "          1205, 1085, 1110, 1150, 1065, 1185, 1030, 1070, 1100, 1150]\n",
    "\n",
    "escolhido = random.choice(vendas)\n",
    "print(escolhido)"
   ]
  },
  {
   "cell_type": "code",
   "execution_count": null,
   "metadata": {},
   "outputs": [],
   "source": [
    "vendas = [[1050, 990, 134, 1020, 980, 1200, 1100, 1150, 940, 860,],\n",
    "          [1030, 1005, 1105, 1130, 950, 1210, 1155, 1080, 1205, 1250,],\n",
    "          [980, 1025, 1075, 930, 1155, 1180, 980, 1000, 1100, 1250,],\n",
    "          [1040, 1015, 1120, 1085, 980, 1080, 1220, 990, 1155, 1200,],\n",
    "          [1010, 1125, 980, 1070, 1190, 1005, 1020, 1225, 1105, 1065,],\n",
    "          [1070, 1035, 1165, 1190, 1090, 950, 1010, 1125, 1055, 1135,],\n",
    "          [1105, 1130, 1075, 1095, 1150, 980, 1055, 990, 1025, 1105,],\n",
    "          [1070, 1460, 1180, 1110, 1085, 1020, 1250, 1080, 1115, 1160,],\n",
    "          [1025, 980, 1155, 1110, 1060, 1200, 1130, 1225, 1075, 1120,],\n",
    "          [1155, 1005, 1100, 1045, 1080, 980, 1125, 1070, 1135, 1050,],\n",
    "          [1205, 1085, 1110, 1150, 1065, 1185, 1030, 1070, 1100, 1150]]\n",
    "\n",
    "#analisar os que são menores de 1000\n",
    "qtd_min = 1000\n",
    "valores_menores = []\n",
    "\n",
    "for venda in vendas:\n",
    "    for qtd in venda:\n",
    "        if qtd < qtd_min:\n",
    "            print(qtd)\n",
    "            valores_menores.append(qtd)\n",
    "\n",
    "print(valores_menores)"
   ]
  }
 ],
 "metadata": {
  "kernelspec": {
   "display_name": "env",
   "language": "python",
   "name": "python3"
  },
  "language_info": {
   "codemirror_mode": {
    "name": "ipython",
    "version": 3
   },
   "file_extension": ".py",
   "mimetype": "text/x-python",
   "name": "python",
   "nbconvert_exporter": "python",
   "pygments_lexer": "ipython3",
   "version": "3.12.4"
  }
 },
 "nbformat": 4,
 "nbformat_minor": 2
}
